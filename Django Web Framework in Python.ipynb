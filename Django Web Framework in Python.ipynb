{
 "cells": [
  {
   "cell_type": "markdown",
   "id": "8590e41f",
   "metadata": {},
   "source": [
    "Django Installation"
   ]
  },
  {
   "cell_type": "code",
   "execution_count": null,
   "id": "50cd5b13",
   "metadata": {},
   "outputs": [],
   "source": [
    "# Recommended: create a virtual environment first\n",
    "python -m venv myenv\n",
    "source myenv/bin/activate  # On Windows: myenv\\Scripts\\activate\n",
    "\n",
    "# Install Django\n",
    "pip install django\n",
    "\n",
    "# Verify installation\n",
    "python -m django --version"
   ]
  },
  {
   "cell_type": "markdown",
   "id": "3af2f869",
   "metadata": {},
   "source": [
    "Django folder structure and flow of control"
   ]
  },
  {
   "cell_type": "code",
   "execution_count": null,
   "id": "6baffddc",
   "metadata": {},
   "outputs": [],
   "source": [
    "myproject/\n",
    "    manage.py\n",
    "    myproject/\n",
    "        __init__.py\n",
    "        settings.py\n",
    "        urls.py\n",
    "        asgi.py\n",
    "        wsgi.py\n",
    "    myapp/\n",
    "        migrations/\n",
    "        __init__.py\n",
    "        admin.py\n",
    "        apps.py\n",
    "        models.py\n",
    "        tests.py\n",
    "        views.py"
   ]
  },
  {
   "cell_type": "markdown",
   "id": "59e20c09",
   "metadata": {},
   "source": [
    "Creation of first Django project"
   ]
  },
  {
   "cell_type": "code",
   "execution_count": null,
   "id": "85a905e0",
   "metadata": {},
   "outputs": [],
   "source": [
    "# Create project\n",
    "django-admin startproject myproject\n",
    "\n",
    "# Create app\n",
    "cd myproject\n",
    "python manage.py startapp myapp\n",
    "\n",
    "# Add app to INSTALLED_APPS in myproject/settings.py\n",
    "INSTALLED_APPS = [\n",
    "    ...\n",
    "    'myapp',\n",
    "]\n",
    "\n",
    "# Run development server\n",
    "python manage.py runserver"
   ]
  },
  {
   "cell_type": "markdown",
   "id": "de6d5d74",
   "metadata": {},
   "source": [
    "# Django models"
   ]
  },
  {
   "cell_type": "markdown",
   "id": "8ceaa242",
   "metadata": {},
   "source": [
    "Models define the structure of your database:"
   ]
  },
  {
   "cell_type": "code",
   "execution_count": null,
   "id": "bac27a2e",
   "metadata": {},
   "outputs": [],
   "source": [
    "# myapp/models.py\n",
    "from django.db import models\n",
    "\n",
    "class Product(models.Model):\n",
    "    name = models.CharField(max_length=100)\n",
    "    price = models.DecimalField(max_digits=10, decimal_places=2)\n",
    "    description = models.TextField()\n",
    "    created_at = models.DateTimeField(auto_now_add=True)\n",
    "    updated_at = models.DateTimeField(auto_now=True)\n",
    "    \n",
    "    def __str__(self):\n",
    "        return self.name"
   ]
  },
  {
   "cell_type": "markdown",
   "id": "72344cd6",
   "metadata": {},
   "source": [
    "After creating models:"
   ]
  },
  {
   "cell_type": "code",
   "execution_count": null,
   "id": "35959b69",
   "metadata": {},
   "outputs": [],
   "source": [
    "# Create migrations\n",
    "python manage.py makemigrations\n",
    "\n",
    "# Apply migrations\n",
    "python manage.py migrate"
   ]
  },
  {
   "cell_type": "markdown",
   "id": "72f7cd3a",
   "metadata": {},
   "source": [
    "# Django admin"
   ]
  },
  {
   "cell_type": "markdown",
   "id": "e75a8f11",
   "metadata": {},
   "source": [
    "Django provides an automatic admin interface:"
   ]
  },
  {
   "cell_type": "code",
   "execution_count": null,
   "id": "c296fc02",
   "metadata": {},
   "outputs": [],
   "source": [
    "# myapp/admin.py\n",
    "from django.contrib import admin\n",
    "from .models import Product\n",
    "\n",
    "admin.site.register(Product)"
   ]
  },
  {
   "cell_type": "markdown",
   "id": "aa1604a1",
   "metadata": {},
   "source": [
    "Create superuser:"
   ]
  },
  {
   "cell_type": "code",
   "execution_count": null,
   "id": "67b8eac8",
   "metadata": {},
   "outputs": [],
   "source": [
    "python manage.py createsuperuser"
   ]
  },
  {
   "cell_type": "markdown",
   "id": "4bda7aae",
   "metadata": {},
   "source": [
    "# Django urls"
   ]
  },
  {
   "cell_type": "markdown",
   "id": "44042180",
   "metadata": {},
   "source": [
    "URL routing connects URLs to views:"
   ]
  },
  {
   "cell_type": "code",
   "execution_count": null,
   "id": "3615b0f3",
   "metadata": {},
   "outputs": [],
   "source": [
    "# myproject/urls.py\n",
    "from django.contrib import admin\n",
    "from django.urls import path\n",
    "from myapp import views\n",
    "\n",
    "urlpatterns = [\n",
    "    path('admin/', admin.site.urls),\n",
    "    path('', views.home, name='home'),\n",
    "    path('products/', views.product_list, name='product_list'),\n",
    "]"
   ]
  },
  {
   "cell_type": "markdown",
   "id": "14086eab",
   "metadata": {},
   "source": [
    "# Django views"
   ]
  },
  {
   "cell_type": "code",
   "execution_count": null,
   "id": "9983e406",
   "metadata": {},
   "outputs": [],
   "source": [
    "# myapp/views.py\n",
    "from django.shortcuts import render\n",
    "from .models import Product\n",
    "\n",
    "def home(request):\n",
    "    return render(request, 'home.html')\n",
    "\n",
    "def product_list(request):\n",
    "    products = Product.objects.all()\n",
    "    return render(request, 'products/list.html', {'products': products})"
   ]
  },
  {
   "cell_type": "markdown",
   "id": "e74eae1e",
   "metadata": {},
   "source": [
    "Django settings\n",
    "Key settings in settings.py:\n",
    "\n",
    "DEBUG: True in development, False in production\n",
    "\n",
    "ALLOWED_HOSTS: Hosts that can serve the application\n",
    "\n",
    "INSTALLED_APPS: Apps included in the project\n",
    "\n",
    "DATABASES: Database configuration\n",
    "\n",
    "STATIC_URL: URL prefix for static files\n",
    "\n",
    "MEDIA_URL: URL prefix for user-uploaded files"
   ]
  },
  {
   "cell_type": "markdown",
   "id": "6969faf9",
   "metadata": {},
   "source": [
    "# Django migrations"
   ]
  },
  {
   "cell_type": "markdown",
   "id": "800f97fe",
   "metadata": {},
   "source": [
    "Migrations track changes to your models:"
   ]
  },
  {
   "cell_type": "code",
   "execution_count": null,
   "id": "1698596d",
   "metadata": {},
   "outputs": [],
   "source": [
    "# After changing models\n",
    "python manage.py makemigrations\n",
    "\n",
    "# To apply migrations\n",
    "python manage.py migrate\n",
    "\n",
    "# To see SQL for a migration\n",
    "python manage.py sqlmigrate myapp 0001\n",
    "\n",
    "# To squash migrations (combine multiple into one)\n",
    "python manage.py squashmigrations myapp 0001 0005"
   ]
  },
  {
   "cell_type": "markdown",
   "id": "7971a141",
   "metadata": {},
   "source": [
    "# Coding Examples"
   ]
  },
  {
   "cell_type": "markdown",
   "id": "b49efb60",
   "metadata": {},
   "source": [
    "Basic Django Project Setup (Easy)"
   ]
  },
  {
   "cell_type": "code",
   "execution_count": null,
   "id": "758bab2c",
   "metadata": {},
   "outputs": [],
   "source": [
    "# Create project and app\n",
    "django-admin startproject bookstore\n",
    "cd bookstore\n",
    "python manage.py startapp catalog\n",
    "\n",
    "# Add to INSTALLED_APPS in bookstore/settings.py\n",
    "INSTALLED_APPS = [\n",
    "    ...\n",
    "    'catalog',\n",
    "]\n",
    "\n",
    "# Create first model\n",
    "# catalog/models.py\n",
    "from django.db import models\n",
    "\n",
    "class Book(models.Model):\n",
    "    title = models.CharField(max_length=200)\n",
    "    author = models.CharField(max_length=100)\n",
    "    price = models.DecimalField(max_digits=6, decimal_places=2)\n",
    "    \n",
    "    def __str__(self):\n",
    "        return self.title\n",
    "\n",
    "# Create and apply migrations\n",
    "python manage.py makemigrations\n",
    "python manage.py migrate\n",
    "\n",
    "# Set up admin\n",
    "# catalog/admin.py\n",
    "from django.contrib import admin\n",
    "from .models import Book\n",
    "\n",
    "admin.site.register(Book)\n",
    "\n",
    "# Create superuser\n",
    "python manage.py createsuperuser"
   ]
  },
  {
   "cell_type": "markdown",
   "id": "7a3c255c",
   "metadata": {},
   "source": [
    "Views and URLs (Medium)"
   ]
  },
  {
   "cell_type": "code",
   "execution_count": null,
   "id": "03a25674",
   "metadata": {},
   "outputs": [],
   "source": [
    "# catalog/views.py\n",
    "from django.shortcuts import render\n",
    "from .models import Book\n",
    "\n",
    "def book_list(request):\n",
    "    books = Book.objects.all()\n",
    "    return render(request, 'catalog/book_list.html', {'books': books})\n",
    "\n",
    "def book_detail(request, pk):\n",
    "    book = Book.objects.get(pk=pk)\n",
    "    return render(request, 'catalog/book_detail.html', {'book': book})\n",
    "\n",
    "# bookstore/urls.py\n",
    "from django.contrib import admin\n",
    "from django.urls import path\n",
    "from catalog import views\n",
    "\n",
    "urlpatterns = [\n",
    "    path('admin/', admin.site.urls),\n",
    "    path('books/', views.book_list, name='book_list'),\n",
    "    path('books/<int:pk>/', views.book_detail, name='book_detail'),\n",
    "]\n",
    "\n",
    "# Create templates in catalog/templates/catalog/\n",
    "# book_list.html\n",
    "{% for book in books %}\n",
    "    <h2><a href=\"{% url 'book_detail' book.pk %}\">{{ book.title }}</a></h2>\n",
    "    <p>Author: {{ book.author }}</p>\n",
    "    <p>Price: ${{ book.price }}</p>\n",
    "{% endfor %}\n",
    "\n",
    "# book_detail.html\n",
    "<h1>{{ book.title }}</h1>\n",
    "<p>Author: {{ book.author }}</p>\n",
    "<p>Price: ${{ book.price }}</p>\n",
    "<a href=\"{% url 'book_list' %}\">Back to list</a>"
   ]
  },
  {
   "cell_type": "markdown",
   "id": "5da8b567",
   "metadata": {},
   "source": [
    "Forms and ModelForms (Medium-Hard)"
   ]
  },
  {
   "cell_type": "code",
   "execution_count": null,
   "id": "a9b34954",
   "metadata": {},
   "outputs": [],
   "source": [
    "# catalog/forms.py\n",
    "from django import forms\n",
    "from .models import Book\n",
    "\n",
    "class BookForm(forms.ModelForm):\n",
    "    class Meta:\n",
    "        model = Book\n",
    "        fields = ['title', 'author', 'price']\n",
    "        widgets = {\n",
    "            'title': forms.TextInput(attrs={'class': 'form-control'}),\n",
    "            'author': forms.TextInput(attrs={'class': 'form-control'}),\n",
    "            'price': forms.NumberInput(attrs={'class': 'form-control'}),\n",
    "        }\n",
    "\n",
    "# catalog/views.py\n",
    "from django.shortcuts import render, redirect\n",
    "from .forms import BookForm\n",
    "\n",
    "def book_create(request):\n",
    "    if request.method == 'POST':\n",
    "        form = BookForm(request.POST)\n",
    "        if form.is_valid():\n",
    "            form.save()\n",
    "            return redirect('book_list')\n",
    "    else:\n",
    "        form = BookForm()\n",
    "    return render(request, 'catalog/book_form.html', {'form': form})\n",
    "\n",
    "# catalog/templates/catalog/book_form.html\n",
    "<form method=\"post\">\n",
    "    {% csrf_token %}\n",
    "    {{ form.as_p }}\n",
    "    <button type=\"submit\" class=\"btn btn-primary\">Save</button>\n",
    "</form>\n",
    "\n",
    "# Add URL pattern\n",
    "path('books/new/', views.book_create, name='book_create'),"
   ]
  },
  {
   "cell_type": "markdown",
   "id": "342988d2",
   "metadata": {},
   "source": [
    "Class-Based Views (Hard)"
   ]
  },
  {
   "cell_type": "code",
   "execution_count": null,
   "id": "bd046246",
   "metadata": {},
   "outputs": [],
   "source": [
    "# catalog/views.py\n",
    "from django.views.generic import ListView, DetailView, CreateView, UpdateView, DeleteView\n",
    "from django.urls import reverse_lazy\n",
    "from .models import Book\n",
    "\n",
    "class BookListView(ListView):\n",
    "    model = Book\n",
    "    template_name = 'catalog/book_list.html'\n",
    "    context_object_name = 'books'\n",
    "\n",
    "class BookDetailView(DetailView):\n",
    "    model = Book\n",
    "    template_name = 'catalog/book_detail.html'\n",
    "\n",
    "class BookCreateView(CreateView):\n",
    "    model = Book\n",
    "    form_class = BookForm\n",
    "    template_name = 'catalog/book_form.html'\n",
    "    success_url = reverse_lazy('book_list')\n",
    "\n",
    "class BookUpdateView(UpdateView):\n",
    "    model = Book\n",
    "    form_class = BookForm\n",
    "    template_name = 'catalog/book_form.html'\n",
    "    success_url = reverse_lazy('book_list')\n",
    "\n",
    "class BookDeleteView(DeleteView):\n",
    "    model = Book\n",
    "    template_name = 'catalog/book_confirm_delete.html'\n",
    "    success_url = reverse_lazy('book_list')\n",
    "\n",
    "# Update URLs\n",
    "path('books/', BookListView.as_view(), name='book_list'),\n",
    "path('books/<int:pk>/', BookDetailView.as_view(), name='book_detail'),\n",
    "path('books/new/', BookCreateView.as_view(), name='book_create'),\n",
    "path('books/<int:pk>/edit/', BookUpdateView.as_view(), name='book_update'),\n",
    "path('books/<int:pk>/delete/', BookDeleteView.as_view(), name='book_delete'),"
   ]
  },
  {
   "cell_type": "markdown",
   "id": "cbf21883",
   "metadata": {},
   "source": [
    "REST API with Django REST Framework (Hard)"
   ]
  },
  {
   "cell_type": "code",
   "execution_count": null,
   "id": "fd5bf89f",
   "metadata": {},
   "outputs": [],
   "source": [
    "# Install DRF\n",
    "pip install djangorestframework\n",
    "\n",
    "# Add to INSTALLED_APPS\n",
    "'rest_framework',"
   ]
  },
  {
   "cell_type": "code",
   "execution_count": null,
   "id": "74119866",
   "metadata": {},
   "outputs": [],
   "source": [
    "# catalog/serializers.py\n",
    "from rest_framework import serializers\n",
    "from .models import Book\n",
    "\n",
    "class BookSerializer(serializers.ModelSerializer):\n",
    "    class Meta:\n",
    "        model = Book\n",
    "        fields = ['id', 'title', 'author', 'price']\n",
    "\n",
    "# catalog/views.py\n",
    "from rest_framework import generics\n",
    "from .serializers import BookSerializer\n",
    "\n",
    "class BookListCreate(generics.ListCreateAPIView):\n",
    "    queryset = Book.objects.all()\n",
    "    serializer_class = BookSerializer\n",
    "\n",
    "class BookRetrieveUpdateDestroy(generics.RetrieveUpdateDestroyAPIView):\n",
    "    queryset = Book.objects.all()\n",
    "    serializer_class = BookSerializer\n",
    "\n",
    "# catalog/urls.py\n",
    "from django.urls import path\n",
    "from .views import BookListCreate, BookRetrieveUpdateDestroy\n",
    "\n",
    "urlpatterns = [\n",
    "    path('api/books/', BookListCreate.as_view()),\n",
    "    path('api/books/<int:pk>/', BookRetrieveUpdateDestroy.as_view()),\n",
    "]\n",
    "\n",
    "# Include in project URLs\n",
    "path('catalog/', include('catalog.urls')),"
   ]
  }
 ],
 "metadata": {
  "kernelspec": {
   "display_name": "Python 3 (ipykernel)",
   "language": "python",
   "name": "python3"
  },
  "language_info": {
   "codemirror_mode": {
    "name": "ipython",
    "version": 3
   },
   "file_extension": ".py",
   "mimetype": "text/x-python",
   "name": "python",
   "nbconvert_exporter": "python",
   "pygments_lexer": "ipython3",
   "version": "3.10.7"
  }
 },
 "nbformat": 4,
 "nbformat_minor": 5
}
