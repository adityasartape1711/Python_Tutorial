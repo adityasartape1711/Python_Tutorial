{
 "cells": [
  {
   "cell_type": "markdown",
   "id": "4dafc9f7",
   "metadata": {},
   "source": [
    "Basic pattern matching"
   ]
  },
  {
   "cell_type": "code",
   "execution_count": 1,
   "id": "14bb7df2",
   "metadata": {},
   "outputs": [
    {
     "name": "stdout",
     "output_type": "stream",
     "text": [
      "Mumbai\n"
     ]
    }
   ],
   "source": [
    "import re\n",
    "\n",
    "text = \"The rain in Mumbai\"\n",
    "result = re.search(\"Mumbai\", text)\n",
    "print(result.group()) if result else print(\"Not found\")"
   ]
  },
  {
   "cell_type": "markdown",
   "id": "58038cb0",
   "metadata": {},
   "source": [
    "Find all matches"
   ]
  },
  {
   "cell_type": "code",
   "execution_count": 2,
   "id": "e677726e",
   "metadata": {},
   "outputs": [
    {
     "name": "stdout",
     "output_type": "stream",
     "text": [
      "['123', '456', '789']\n"
     ]
    }
   ],
   "source": [
    "text = \"abc123def456ghi789\"\n",
    "numbers = re.findall(r'\\d+', text)\n",
    "print(numbers)  # ['123', '456', '789']"
   ]
  },
  {
   "cell_type": "markdown",
   "id": "e233f2bb",
   "metadata": {},
   "source": [
    "Pattern substitution"
   ]
  },
  {
   "cell_type": "code",
   "execution_count": 3,
   "id": "984acc07",
   "metadata": {},
   "outputs": [
    {
     "name": "stdout",
     "output_type": "stream",
     "text": [
      "Today is YYYY-MM-DD\n"
     ]
    }
   ],
   "source": [
    "text = \"Today is 2023-12-15\"\n",
    "new_text = re.sub(r'\\d{4}-\\d{2}-\\d{2}', 'YYYY-MM-DD', text)\n",
    "print(new_text)  # Today is YYYY-MM-DD"
   ]
  },
  {
   "cell_type": "markdown",
   "id": "2c6590e6",
   "metadata": {},
   "source": [
    "Complex pattern with groups"
   ]
  },
  {
   "cell_type": "code",
   "execution_count": 4,
   "id": "7f8ac5bc",
   "metadata": {},
   "outputs": [
    {
     "name": "stdout",
     "output_type": "stream",
     "text": [
      "Username: user1, Domain: example.com\n",
      "Username: user2, Domain: gmail.com\n"
     ]
    }
   ],
   "source": [
    "text = \"Emails: user1@example.com, user2@gmail.com\"\n",
    "pattern = r'(\\w+)@([a-zA-Z0-9.-]+)'\n",
    "matches = re.findall(pattern, text)\n",
    "for username, domain in matches:\n",
    "    print(f\"Username: {username}, Domain: {domain}\")"
   ]
  },
  {
   "cell_type": "markdown",
   "id": "7db45479",
   "metadata": {},
   "source": [
    "Validation with regex"
   ]
  },
  {
   "cell_type": "code",
   "execution_count": 5,
   "id": "167f406e",
   "metadata": {},
   "outputs": [
    {
     "name": "stdout",
     "output_type": "stream",
     "text": [
      "True\n",
      "False\n",
      "False\n"
     ]
    }
   ],
   "source": [
    "def validate_phone(phone):\n",
    "    pattern = r'^\\+?\\d{1,3}[-.\\s]?\\(?\\d{3}\\)?[-.\\s]?\\d{3}[-.\\s]?\\d{4}$'\n",
    "    return bool(re.match(pattern, phone))\n",
    "\n",
    "print(validate_phone(\"+1 (123) 456-7890\"))  # True\n",
    "print(validate_phone(\"123-456-7890\"))       # True\n",
    "print(validate_phone(\"invalid\"))            # False"
   ]
  },
  {
   "cell_type": "code",
   "execution_count": null,
   "id": "4e8ba9b7",
   "metadata": {},
   "outputs": [],
   "source": []
  }
 ],
 "metadata": {
  "kernelspec": {
   "display_name": "Python 3 (ipykernel)",
   "language": "python",
   "name": "python3"
  },
  "language_info": {
   "codemirror_mode": {
    "name": "ipython",
    "version": 3
   },
   "file_extension": ".py",
   "mimetype": "text/x-python",
   "name": "python",
   "nbconvert_exporter": "python",
   "pygments_lexer": "ipython3",
   "version": "3.10.7"
  }
 },
 "nbformat": 4,
 "nbformat_minor": 5
}
