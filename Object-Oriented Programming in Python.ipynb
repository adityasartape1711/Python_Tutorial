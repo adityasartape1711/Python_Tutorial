{
 "cells": [
  {
   "cell_type": "markdown",
   "id": "f6fbde6f",
   "metadata": {},
   "source": [
    "Basic class"
   ]
  },
  {
   "cell_type": "code",
   "execution_count": 1,
   "id": "89b98863",
   "metadata": {},
   "outputs": [
    {
     "name": "stdout",
     "output_type": "stream",
     "text": [
      "Buddy says woof!\n"
     ]
    }
   ],
   "source": [
    "class Dog:\n",
    "    def __init__(self, name, age):\n",
    "        self.name = name\n",
    "        self.age = age\n",
    "        \n",
    "    def bark(self):\n",
    "        print(f\"{self.name} says woof!\")\n",
    "\n",
    "dog = Dog(\"Buddy\", 3)\n",
    "dog.bark()"
   ]
  },
  {
   "cell_type": "markdown",
   "id": "d124d19e",
   "metadata": {},
   "source": [
    "Inheritance"
   ]
  },
  {
   "cell_type": "code",
   "execution_count": 2,
   "id": "4824bac3",
   "metadata": {},
   "outputs": [
    {
     "name": "stdout",
     "output_type": "stream",
     "text": [
      "Whiskers says meow\n"
     ]
    }
   ],
   "source": [
    "class Animal:\n",
    "    def __init__(self, name):\n",
    "        self.name = name\n",
    "        \n",
    "    def speak(self):\n",
    "        raise NotImplementedError(\"Subclass must implement this method\")\n",
    "\n",
    "class Cat(Animal):\n",
    "    def speak(self):\n",
    "        print(f\"{self.name} says meow\")\n",
    "\n",
    "cat = Cat(\"Whiskers\")\n",
    "cat.speak()"
   ]
  },
  {
   "cell_type": "markdown",
   "id": "25a01723",
   "metadata": {},
   "source": [
    "Polymorphism"
   ]
  },
  {
   "cell_type": "code",
   "execution_count": 3,
   "id": "f768cac6",
   "metadata": {},
   "outputs": [
    {
     "name": "stdout",
     "output_type": "stream",
     "text": [
      "Area: 6\n",
      "Area: 78.5\n"
     ]
    }
   ],
   "source": [
    "class Rectangle:\n",
    "    def __init__(self, width, height):\n",
    "        self.width = width\n",
    "        self.height = height\n",
    "        \n",
    "    def area(self):\n",
    "        return self.width * self.height\n",
    "\n",
    "class Circle:\n",
    "    def __init__(self, radius):\n",
    "        self.radius = radius\n",
    "        \n",
    "    def area(self):\n",
    "        return 3.14 * self.radius ** 2\n",
    "\n",
    "shapes = [Rectangle(2, 3), Circle(5)]\n",
    "for shape in shapes:\n",
    "    print(f\"Area: {shape.area()}\")"
   ]
  },
  {
   "cell_type": "markdown",
   "id": "89e8a1a4",
   "metadata": {},
   "source": [
    "Property decorators"
   ]
  },
  {
   "cell_type": "code",
   "execution_count": 4,
   "id": "cee37458",
   "metadata": {},
   "outputs": [
    {
     "name": "stdout",
     "output_type": "stream",
     "text": [
      "1300\n"
     ]
    }
   ],
   "source": [
    "class BankAccount:\n",
    "    def __init__(self, account_holder, balance=0):\n",
    "        self._account_holder = account_holder\n",
    "        self._balance = balance\n",
    "        \n",
    "    @property\n",
    "    def balance(self):\n",
    "        return self._balance\n",
    "        \n",
    "    def deposit(self, amount):\n",
    "        if amount > 0:\n",
    "            self._balance += amount\n",
    "            return True\n",
    "        return False\n",
    "        \n",
    "    def withdraw(self, amount):\n",
    "        if 0 < amount <= self._balance:\n",
    "            self._balance -= amount\n",
    "            return True\n",
    "        return False\n",
    "\n",
    "account = BankAccount(\"Alice\", 1000)\n",
    "account.deposit(500)\n",
    "account.withdraw(200)\n",
    "print(account.balance)  # 1300"
   ]
  },
  {
   "cell_type": "markdown",
   "id": "6f7b91cf",
   "metadata": {},
   "source": [
    "Abstract base class"
   ]
  },
  {
   "cell_type": "code",
   "execution_count": 5,
   "id": "4dc5ea75",
   "metadata": {},
   "outputs": [
    {
     "name": "stdout",
     "output_type": "stream",
     "text": [
      "Area: 25, Perimeter: 20\n"
     ]
    }
   ],
   "source": [
    "from abc import ABC, abstractmethod\n",
    "\n",
    "class Shape(ABC):\n",
    "    @abstractmethod\n",
    "    def area(self):\n",
    "        pass\n",
    "    \n",
    "    @abstractmethod\n",
    "    def perimeter(self):\n",
    "        pass\n",
    "\n",
    "class Square(Shape):\n",
    "    def __init__(self, side):\n",
    "        self.side = side\n",
    "        \n",
    "    def area(self):\n",
    "        return self.side ** 2\n",
    "        \n",
    "    def perimeter(self):\n",
    "        return 4 * self.side\n",
    "\n",
    "# shape = Shape()  # Error: Can't instantiate abstract class\n",
    "square = Square(5)\n",
    "print(f\"Area: {square.area()}, Perimeter: {square.perimeter()}\")"
   ]
  },
  {
   "cell_type": "code",
   "execution_count": null,
   "id": "87fdc56c",
   "metadata": {},
   "outputs": [],
   "source": []
  }
 ],
 "metadata": {
  "kernelspec": {
   "display_name": "Python 3 (ipykernel)",
   "language": "python",
   "name": "python3"
  },
  "language_info": {
   "codemirror_mode": {
    "name": "ipython",
    "version": 3
   },
   "file_extension": ".py",
   "mimetype": "text/x-python",
   "name": "python",
   "nbconvert_exporter": "python",
   "pygments_lexer": "ipython3",
   "version": "3.10.7"
  }
 },
 "nbformat": 4,
 "nbformat_minor": 5
}
