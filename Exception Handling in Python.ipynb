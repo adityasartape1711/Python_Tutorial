{
 "cells": [
  {
   "cell_type": "markdown",
   "id": "10e3bd7c",
   "metadata": {},
   "source": [
    "Basic exception handling"
   ]
  },
  {
   "cell_type": "code",
   "execution_count": 1,
   "id": "f50a7f6e",
   "metadata": {},
   "outputs": [
    {
     "name": "stdout",
     "output_type": "stream",
     "text": [
      "Enter a number: 17\n",
      "You entered: 17\n"
     ]
    }
   ],
   "source": [
    "try:\n",
    "    num = int(input(\"Enter a number: \"))\n",
    "    print(f\"You entered: {num}\")\n",
    "except ValueError:\n",
    "    print(\"That's not a valid number!\")"
   ]
  },
  {
   "cell_type": "markdown",
   "id": "fbba4e12",
   "metadata": {},
   "source": [
    "Multiple exceptions"
   ]
  },
  {
   "cell_type": "code",
   "execution_count": 2,
   "id": "da1e52ca",
   "metadata": {},
   "outputs": [
    {
     "name": "stdout",
     "output_type": "stream",
     "text": [
      "Enter a number: 17\n"
     ]
    }
   ],
   "source": [
    "try:\n",
    "    x = 10 / int(input(\"Enter a number: \"))\n",
    "except ZeroDivisionError:\n",
    "    print(\"Cannot divide by zero!\")\n",
    "except ValueError:\n",
    "    print(\"Invalid input!\")"
   ]
  },
  {
   "cell_type": "markdown",
   "id": "dba6736b",
   "metadata": {},
   "source": [
    "try-except-else-finally"
   ]
  },
  {
   "cell_type": "code",
   "execution_count": 3,
   "id": "375dc863",
   "metadata": {},
   "outputs": [
    {
     "name": "stdout",
     "output_type": "stream",
     "text": [
      "File not found\n",
      "This always executes\n"
     ]
    }
   ],
   "source": [
    "try:\n",
    "    file = open('nonexistent.txt', 'r')\n",
    "except FileNotFoundError:\n",
    "    print(\"File not found\")\n",
    "else:\n",
    "    content = file.read()\n",
    "    print(content)\n",
    "    file.close()\n",
    "finally:\n",
    "    print(\"This always executes\")"
   ]
  },
  {
   "cell_type": "markdown",
   "id": "03cf406f",
   "metadata": {},
   "source": [
    "Custom exceptions"
   ]
  },
  {
   "cell_type": "code",
   "execution_count": 4,
   "id": "4424cd89",
   "metadata": {},
   "outputs": [
    {
     "name": "stdout",
     "output_type": "stream",
     "text": [
      "3.0\n",
      "Cannot compute square root of negative number\n"
     ]
    }
   ],
   "source": [
    "class NegativeNumberError(Exception):\n",
    "    pass\n",
    "\n",
    "def sqrt(x):\n",
    "    if x < 0:\n",
    "        raise NegativeNumberError(\"Cannot compute square root of negative number\")\n",
    "    return x ** 0.5\n",
    "\n",
    "try:\n",
    "    print(sqrt(9))\n",
    "    print(sqrt(-4))\n",
    "except NegativeNumberError as e:\n",
    "    print(e)"
   ]
  },
  {
   "cell_type": "markdown",
   "id": "27dd3a46",
   "metadata": {},
   "source": [
    "Complex exception handling"
   ]
  },
  {
   "cell_type": "code",
   "execution_count": 5,
   "id": "bbcefd1b",
   "metadata": {},
   "outputs": [
    {
     "name": "stdout",
     "output_type": "stream",
     "text": [
      "Error opening file: numbers.txt\n"
     ]
    }
   ],
   "source": [
    "def process_file(filename):\n",
    "    try:\n",
    "        with open(filename) as file:\n",
    "            for line in file:\n",
    "                try:\n",
    "                    num = float(line.strip())\n",
    "                    print(f\"Number: {num:.2f}\")\n",
    "                except ValueError:\n",
    "                    print(f\"Invalid number: {line.strip()}\")\n",
    "    except IOError:\n",
    "        print(f\"Error opening file: {filename}\")\n",
    "\n",
    "process_file('numbers.txt')"
   ]
  },
  {
   "cell_type": "code",
   "execution_count": null,
   "id": "54e2fb52",
   "metadata": {},
   "outputs": [],
   "source": []
  }
 ],
 "metadata": {
  "kernelspec": {
   "display_name": "Python 3 (ipykernel)",
   "language": "python",
   "name": "python3"
  },
  "language_info": {
   "codemirror_mode": {
    "name": "ipython",
    "version": 3
   },
   "file_extension": ".py",
   "mimetype": "text/x-python",
   "name": "python",
   "nbconvert_exporter": "python",
   "pygments_lexer": "ipython3",
   "version": "3.10.7"
  }
 },
 "nbformat": 4,
 "nbformat_minor": 5
}
