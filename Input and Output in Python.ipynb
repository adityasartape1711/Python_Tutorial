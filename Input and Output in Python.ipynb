{
 "cells": [
  {
   "cell_type": "markdown",
   "id": "687c9a5e",
   "metadata": {},
   "source": [
    "Reading a file"
   ]
  },
  {
   "cell_type": "code",
   "execution_count": null,
   "id": "25cb3fac",
   "metadata": {},
   "outputs": [],
   "source": [
    "with open('example.txt', 'r') as file:\n",
    "    content = file.read()\n",
    "    print(content)  #you can replace example.txt with your any txt file"
   ]
  },
  {
   "cell_type": "markdown",
   "id": "e4db6eb8",
   "metadata": {},
   "source": [
    "Writing to a file"
   ]
  },
  {
   "cell_type": "code",
   "execution_count": null,
   "id": "231ef140",
   "metadata": {},
   "outputs": [],
   "source": [
    "with open('output.txt', 'w') as file:\n",
    "    file.write(\"Hello, World!\\n\")\n",
    "    file.write(\"This is a test file.\") #you can replace output.txt with your any txt file"
   ]
  },
  {
   "cell_type": "markdown",
   "id": "3a38299c",
   "metadata": {},
   "source": [
    "File line processing"
   ]
  },
  {
   "cell_type": "code",
   "execution_count": null,
   "id": "3ae4ad6b",
   "metadata": {},
   "outputs": [],
   "source": [
    "with open('data.txt', 'r') as file:\n",
    "    for line_num, line in enumerate(file, 1):\n",
    "        print(f\"Line {line_num}: {line.strip()}\") #you can replace data.txt with your any txt file"
   ]
  },
  {
   "cell_type": "markdown",
   "id": "e7d77b7d",
   "metadata": {},
   "source": [
    "CSV file processing"
   ]
  },
  {
   "cell_type": "code",
   "execution_count": null,
   "id": "73159343",
   "metadata": {},
   "outputs": [],
   "source": [
    "import csv\n",
    "\n",
    "# Writing to CSV\n",
    "with open('data.csv', 'w', newline='') as file:\n",
    "    writer = csv.writer(file)\n",
    "    writer.writerow([\"Name\", \"Age\", \"City\"])\n",
    "    writer.writerow([\"Antara\", 27, \"Mumbai\"])\n",
    "    writer.writerow([\"Aditya\", 27, \"Pune\"])\n",
    "\n",
    "# Reading from CSV\n",
    "with open('data.csv', 'r') as file:\n",
    "    reader = csv.reader(file)\n",
    "    for row in reader:\n",
    "        print(row)  #you can replace data.csv with your any csv file"
   ]
  },
  {
   "cell_type": "markdown",
   "id": "766f4c5c",
   "metadata": {},
   "source": [
    "Binary file operations"
   ]
  },
  {
   "cell_type": "code",
   "execution_count": null,
   "id": "d137e799",
   "metadata": {},
   "outputs": [],
   "source": [
    "# Write binary data\n",
    "with open('binary.dat', 'wb') as file:\n",
    "    file.write(bytes(range(256)))\n",
    "\n",
    "# Read binary data\n",
    "with open('binary.dat', 'rb') as file:\n",
    "    data = file.read()\n",
    "    print(f\"Read {len(data)} bytes\") #you can replace binary.dat with your any dat file"
   ]
  }
 ],
 "metadata": {
  "kernelspec": {
   "display_name": "Python 3 (ipykernel)",
   "language": "python",
   "name": "python3"
  },
  "language_info": {
   "codemirror_mode": {
    "name": "ipython",
    "version": 3
   },
   "file_extension": ".py",
   "mimetype": "text/x-python",
   "name": "python",
   "nbconvert_exporter": "python",
   "pygments_lexer": "ipython3",
   "version": "3.10.7"
  }
 },
 "nbformat": 4,
 "nbformat_minor": 5
}
