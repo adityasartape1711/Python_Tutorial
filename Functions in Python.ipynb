{
 "cells": [
  {
   "cell_type": "markdown",
   "id": "d11e4fff",
   "metadata": {},
   "source": [
    "Simple function"
   ]
  },
  {
   "cell_type": "code",
   "execution_count": 1,
   "id": "5001f840",
   "metadata": {},
   "outputs": [
    {
     "name": "stdout",
     "output_type": "stream",
     "text": [
      "Hello there!\n"
     ]
    }
   ],
   "source": [
    "def greet():\n",
    "    print(\"Hello there!\")\n",
    "\n",
    "greet()"
   ]
  },
  {
   "cell_type": "markdown",
   "id": "b86b76ff",
   "metadata": {},
   "source": [
    "Function with parameters"
   ]
  },
  {
   "cell_type": "code",
   "execution_count": 2,
   "id": "35463840",
   "metadata": {},
   "outputs": [
    {
     "name": "stdout",
     "output_type": "stream",
     "text": [
      "8\n"
     ]
    }
   ],
   "source": [
    "def add_numbers(a, b):\n",
    "    return a + b\n",
    "\n",
    "result = add_numbers(5, 3)\n",
    "print(result)"
   ]
  },
  {
   "cell_type": "markdown",
   "id": "766cdf77",
   "metadata": {},
   "source": [
    "Default arguments"
   ]
  },
  {
   "cell_type": "code",
   "execution_count": 3,
   "id": "84e02875",
   "metadata": {},
   "outputs": [
    {
     "name": "stdout",
     "output_type": "stream",
     "text": [
      "9\n",
      "27\n"
     ]
    }
   ],
   "source": [
    "def power(base, exponent=2):\n",
    "    return base ** exponent\n",
    "\n",
    "print(power(3))     # 9 (3^2)\n",
    "print(power(3, 3))  # 27 (3^3)"
   ]
  },
  {
   "cell_type": "markdown",
   "id": "3f642791",
   "metadata": {},
   "source": [
    "Variable-length arguments"
   ]
  },
  {
   "cell_type": "code",
   "execution_count": 4,
   "id": "aaa2f906",
   "metadata": {},
   "outputs": [
    {
     "name": "stdout",
     "output_type": "stream",
     "text": [
      "3.0\n"
     ]
    }
   ],
   "source": [
    "def average(*numbers):\n",
    "    return sum(numbers) / len(numbers)\n",
    "\n",
    "print(average(1, 2, 3, 4, 5))"
   ]
  },
  {
   "cell_type": "markdown",
   "id": "d80456b9",
   "metadata": {},
   "source": [
    "Recursive function"
   ]
  },
  {
   "cell_type": "code",
   "execution_count": 5,
   "id": "60d8aba1",
   "metadata": {},
   "outputs": [
    {
     "name": "stdout",
     "output_type": "stream",
     "text": [
      "120\n"
     ]
    }
   ],
   "source": [
    "def factorial(n):\n",
    "    if n == 0:\n",
    "        return 1\n",
    "    else:\n",
    "        return n * factorial(n-1)\n",
    "\n",
    "print(factorial(5))  # 120"
   ]
  },
  {
   "cell_type": "code",
   "execution_count": null,
   "id": "12157ed9",
   "metadata": {},
   "outputs": [],
   "source": []
  }
 ],
 "metadata": {
  "kernelspec": {
   "display_name": "Python 3 (ipykernel)",
   "language": "python",
   "name": "python3"
  },
  "language_info": {
   "codemirror_mode": {
    "name": "ipython",
    "version": 3
   },
   "file_extension": ".py",
   "mimetype": "text/x-python",
   "name": "python",
   "nbconvert_exporter": "python",
   "pygments_lexer": "ipython3",
   "version": "3.10.7"
  }
 },
 "nbformat": 4,
 "nbformat_minor": 5
}
