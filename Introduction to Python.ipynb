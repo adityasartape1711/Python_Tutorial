{
 "cells": [
  {
   "cell_type": "markdown",
   "id": "d44b6397",
   "metadata": {},
   "source": [
    "Hello World"
   ]
  },
  {
   "cell_type": "code",
   "execution_count": 9,
   "id": "5433d1ff",
   "metadata": {},
   "outputs": [
    {
     "name": "stdout",
     "output_type": "stream",
     "text": [
      "Hello, World!\n"
     ]
    }
   ],
   "source": [
    "print(\"Hello, World!\")"
   ]
  },
  {
   "cell_type": "markdown",
   "id": "81ad9722",
   "metadata": {},
   "source": [
    "Basic arithmetic"
   ]
  },
  {
   "cell_type": "markdown",
   "id": "55f27fd4",
   "metadata": {},
   "source": [
    "a = 5\n",
    "b = 3\n",
    "print(f\"Sum: {a + b}, Product: {a * b}\")"
   ]
  },
  {
   "cell_type": "markdown",
   "id": "6953daf4",
   "metadata": {},
   "source": [
    "Simple user input"
   ]
  },
  {
   "cell_type": "code",
   "execution_count": 3,
   "id": "2b8880dd",
   "metadata": {},
   "outputs": [
    {
     "name": "stdout",
     "output_type": "stream",
     "text": [
      "What's your name? Antara\n",
      "Hello, Antara! Welcome to Python.\n"
     ]
    }
   ],
   "source": [
    "name = input(\"What's your name? \")\n",
    "print(f\"Hello, {name}! Welcome to Python.\")"
   ]
  },
  {
   "cell_type": "markdown",
   "id": "1db1425e",
   "metadata": {},
   "source": [
    "Basic function"
   ]
  },
  {
   "cell_type": "code",
   "execution_count": 4,
   "id": "6b328274",
   "metadata": {},
   "outputs": [
    {
     "name": "stdout",
     "output_type": "stream",
     "text": [
      "Hello, Alice!\n"
     ]
    }
   ],
   "source": [
    "def greet(name):\n",
    "    return f\"Hello, {name}!\"\n",
    "\n",
    "print(greet(\"Alice\"))"
   ]
  },
  {
   "cell_type": "markdown",
   "id": "c41f773b",
   "metadata": {},
   "source": [
    "Simple calculator"
   ]
  },
  {
   "cell_type": "code",
   "execution_count": 6,
   "id": "04a3005e",
   "metadata": {},
   "outputs": [
    {
     "name": "stdout",
     "output_type": "stream",
     "text": [
      "Enter first number: 17\n",
      "Enter operator (+, -, *, /): *\n",
      "Enter second number: 2\n",
      "34.0\n"
     ]
    }
   ],
   "source": [
    "def calculator():\n",
    "    num1 = float(input(\"Enter first number: \"))\n",
    "    op = input(\"Enter operator (+, -, *, /): \")\n",
    "    num2 = float(input(\"Enter second number: \"))\n",
    "    \n",
    "    if op == '+':\n",
    "        return num1 + num2\n",
    "    elif op == '-':\n",
    "        return num1 - num2\n",
    "    elif op == '*':\n",
    "        return num1 * num2\n",
    "    elif op == '/':\n",
    "        return num1 / num2\n",
    "    else:\n",
    "        return \"Invalid operator\"\n",
    "\n",
    "print(calculator())"
   ]
  },
  {
   "cell_type": "code",
   "execution_count": null,
   "id": "3ea4c27f",
   "metadata": {},
   "outputs": [],
   "source": []
  }
 ],
 "metadata": {
  "kernelspec": {
   "display_name": "Python 3 (ipykernel)",
   "language": "python",
   "name": "python3"
  },
  "language_info": {
   "codemirror_mode": {
    "name": "ipython",
    "version": 3
   },
   "file_extension": ".py",
   "mimetype": "text/x-python",
   "name": "python",
   "nbconvert_exporter": "python",
   "pygments_lexer": "ipython3",
   "version": "3.10.7"
  }
 },
 "nbformat": 4,
 "nbformat_minor": 5
}
