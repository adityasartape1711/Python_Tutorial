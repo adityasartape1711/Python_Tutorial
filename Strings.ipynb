{
 "cells": [
  {
   "cell_type": "markdown",
   "id": "03de0bc2",
   "metadata": {},
   "source": [
    "String basics"
   ]
  },
  {
   "cell_type": "code",
   "execution_count": 1,
   "id": "9441e4b1",
   "metadata": {},
   "outputs": [
    {
     "name": "stdout",
     "output_type": "stream",
     "text": [
      "HELLO, PYTHON!\n",
      "14\n"
     ]
    }
   ],
   "source": [
    "text = \"Hello, Python!\"\n",
    "print(text.upper())  # HELLO, PYTHON!\n",
    "print(len(text))     # 14"
   ]
  },
  {
   "cell_type": "markdown",
   "id": "4d7d7b63",
   "metadata": {},
   "source": [
    "String formatting"
   ]
  },
  {
   "cell_type": "code",
   "execution_count": 2,
   "id": "2acd4126",
   "metadata": {},
   "outputs": [
    {
     "name": "stdout",
     "output_type": "stream",
     "text": [
      "Antara is 27 years old.\n"
     ]
    }
   ],
   "source": [
    "name = \"Antara\"\n",
    "age = 27\n",
    "print(f\"{name} is {age} years old.\")"
   ]
  },
  {
   "cell_type": "markdown",
   "id": "93b20c5c",
   "metadata": {},
   "source": [
    "String methods"
   ]
  },
  {
   "cell_type": "code",
   "execution_count": 3,
   "id": "d8ea1d56",
   "metadata": {},
   "outputs": [
    {
     "name": "stdout",
     "output_type": "stream",
     "text": [
      "fun! is Python\n"
     ]
    }
   ],
   "source": [
    "sentence = \"Python is fun!\"\n",
    "words = sentence.split()\n",
    "reversed_sentence = ' '.join(reversed(words))\n",
    "print(reversed_sentence)  # fun! is Python"
   ]
  },
  {
   "cell_type": "markdown",
   "id": "f7a6e491",
   "metadata": {},
   "source": [
    "Palindrome check"
   ]
  },
  {
   "cell_type": "code",
   "execution_count": 4,
   "id": "b2b06b78",
   "metadata": {},
   "outputs": [
    {
     "name": "stdout",
     "output_type": "stream",
     "text": [
      "True\n"
     ]
    }
   ],
   "source": [
    "def is_palindrome(s):\n",
    "    s = ''.join(c for c in s.lower() if c.isalnum())\n",
    "    return s == s[::-1]\n",
    "\n",
    "print(is_palindrome(\"A man, a plan, a canal: Panama\"))  # True"
   ]
  },
  {
   "cell_type": "markdown",
   "id": "bc84cfd8",
   "metadata": {},
   "source": [
    "String encoding/decoding"
   ]
  },
  {
   "cell_type": "code",
   "execution_count": 5,
   "id": "ab1307d1",
   "metadata": {},
   "outputs": [
    {
     "name": "stdout",
     "output_type": "stream",
     "text": [
      "b'Python\\xe7\\xbc\\x96\\xe7\\xa8\\x8b'\n",
      "Python编程\n"
     ]
    }
   ],
   "source": [
    "text = \"Python编程\"\n",
    "encoded = text.encode('utf-8')\n",
    "decoded = encoded.decode('utf-8')\n",
    "print(encoded)  # b'Python\\xe7\\xbc\\x96\\xe7\\xa8\\x8b'\n",
    "print(decoded)  # Python编程"
   ]
  },
  {
   "cell_type": "code",
   "execution_count": null,
   "id": "a01d1f0e",
   "metadata": {},
   "outputs": [],
   "source": []
  }
 ],
 "metadata": {
  "kernelspec": {
   "display_name": "Python 3 (ipykernel)",
   "language": "python",
   "name": "python3"
  },
  "language_info": {
   "codemirror_mode": {
    "name": "ipython",
    "version": 3
   },
   "file_extension": ".py",
   "mimetype": "text/x-python",
   "name": "python",
   "nbconvert_exporter": "python",
   "pygments_lexer": "ipython3",
   "version": "3.10.7"
  }
 },
 "nbformat": 4,
 "nbformat_minor": 5
}
