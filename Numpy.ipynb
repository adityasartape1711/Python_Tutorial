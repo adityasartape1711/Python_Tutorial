{
 "cells": [
  {
   "cell_type": "markdown",
   "id": "c55049df",
   "metadata": {},
   "source": [
    "Performance comparison"
   ]
  },
  {
   "cell_type": "code",
   "execution_count": 2,
   "id": "efdd5e53",
   "metadata": {},
   "outputs": [
    {
     "name": "stdout",
     "output_type": "stream",
     "text": [
      "Python list took: 0.24404644966125488\n",
      "NumPy array took: 0.008252859115600586\n"
     ]
    }
   ],
   "source": [
    "import numpy as np\n",
    "import time\n",
    "\n",
    "size = 1000000\n",
    "\n",
    "# Python list\n",
    "list1 = range(size)\n",
    "list2 = range(size)\n",
    "\n",
    "start = time.time()\n",
    "result = [(x + y) for x, y in zip(list1, list2)]\n",
    "print(\"Python list took:\", time.time() - start)\n",
    "\n",
    "# NumPy array\n",
    "array1 = np.arange(size)\n",
    "array2 = np.arange(size)\n",
    "\n",
    "start = time.time()\n",
    "result = array1 + array2\n",
    "print(\"NumPy array took:\", time.time() - start)"
   ]
  },
  {
   "cell_type": "markdown",
   "id": "c98fe261",
   "metadata": {},
   "source": [
    "Creating Arrays"
   ]
  },
  {
   "cell_type": "code",
   "execution_count": 3,
   "id": "3e4700ee",
   "metadata": {},
   "outputs": [],
   "source": [
    "# From Python list\n",
    "arr1 = np.array([1, 2, 3, 4, 5])\n",
    "\n",
    "# Array of zeros\n",
    "arr2 = np.zeros(5)\n",
    "\n",
    "# Array of ones\n",
    "arr3 = np.ones((2, 3))  # 2 rows, 3 columns\n",
    "\n",
    "# Array with a range\n",
    "arr4 = np.arange(0, 20, 2)  # start, stop, step\n",
    "\n",
    "# Random array\n",
    "arr5 = np.random.rand(3, 3)  # 3x3 random values between 0-1\n",
    "\n",
    "# Identity matrix\n",
    "arr6 = np.eye(4)  # 4x4 identity matrix\n",
    "\n",
    "# Linspace - evenly spaced numbers\n",
    "arr7 = np.linspace(0, 1, 5)  # 5 numbers from 0 to 1"
   ]
  },
  {
   "cell_type": "markdown",
   "id": "932cc8c6",
   "metadata": {},
   "source": [
    "Using Arrays and Scalars"
   ]
  },
  {
   "cell_type": "code",
   "execution_count": 4,
   "id": "d9a5ae74",
   "metadata": {},
   "outputs": [
    {
     "name": "stdout",
     "output_type": "stream",
     "text": [
      "[6 7 8 9]\n",
      "[2 4 6 8]\n",
      "[1.         0.5        0.33333333 0.25      ]\n",
      "[ 6  8 10 12]\n",
      "[ 5 12 21 32]\n"
     ]
    }
   ],
   "source": [
    "arr = np.array([1, 2, 3, 4])\n",
    "\n",
    "# Scalar operations\n",
    "print(arr + 5)      # [6 7 8 9]\n",
    "print(arr * 2)      # [2 4 6 8]\n",
    "print(1 / arr)      # [1.   0.5  0.33333333 0.25]\n",
    "\n",
    "# Array-array operations\n",
    "arr2 = np.array([5, 6, 7, 8])\n",
    "print(arr + arr2)   # [ 6  8 10 12]\n",
    "print(arr * arr2)   # [ 5 12 21 32]"
   ]
  },
  {
   "cell_type": "markdown",
   "id": "9ca1b432",
   "metadata": {},
   "source": [
    "Indexing Arrays"
   ]
  },
  {
   "cell_type": "code",
   "execution_count": 5,
   "id": "0070e8ba",
   "metadata": {},
   "outputs": [
    {
     "name": "stdout",
     "output_type": "stream",
     "text": [
      "2\n",
      "[[2 3]\n",
      " [5 6]]\n",
      "[6 7 8 9]\n",
      "[[1 2 3]\n",
      " [7 8 9]]\n"
     ]
    }
   ],
   "source": [
    "arr = np.array([[1, 2, 3], [4, 5, 6], [7, 8, 9]])\n",
    "\n",
    "# Single element\n",
    "print(arr[0, 1])  # 2 (row 0, column 1)\n",
    "\n",
    "# Slicing\n",
    "print(arr[:2, 1:])  # First 2 rows, columns from 1 onward\n",
    "# [[2 3]\n",
    "#  [5 6]]\n",
    "\n",
    "# Boolean indexing\n",
    "print(arr[arr > 5])  # [6 7 8 9]\n",
    "\n",
    "# Fancy indexing\n",
    "print(arr[[0, 2]])  # First and third rows\n",
    "# [[1 2 3]\n",
    "#  [7 8 9]]"
   ]
  },
  {
   "cell_type": "markdown",
   "id": "76e2a25a",
   "metadata": {},
   "source": [
    "Array Transposition"
   ]
  },
  {
   "cell_type": "code",
   "execution_count": 6,
   "id": "ec5fb1e1",
   "metadata": {},
   "outputs": [
    {
     "name": "stdout",
     "output_type": "stream",
     "text": [
      "[[1 4]\n",
      " [2 5]\n",
      " [3 6]]\n",
      "[[[0 1]\n",
      "  [4 5]]\n",
      "\n",
      " [[2 3]\n",
      "  [6 7]]]\n"
     ]
    }
   ],
   "source": [
    "arr = np.array([[1, 2, 3], [4, 5, 6]])\n",
    "\n",
    "# Transpose\n",
    "print(arr.T)\n",
    "# [[1 4]\n",
    "#  [2 5]\n",
    "#  [3 6]]\n",
    "\n",
    "# For higher dimensions, use transpose with axes\n",
    "arr3d = np.arange(8).reshape((2,2,2))\n",
    "print(arr3d.transpose(1,0,2))"
   ]
  },
  {
   "cell_type": "markdown",
   "id": "b153e6d0",
   "metadata": {},
   "source": [
    "Universal Array Functions (ufuncs)"
   ]
  },
  {
   "cell_type": "code",
   "execution_count": 7,
   "id": "42fd5e01",
   "metadata": {},
   "outputs": [
    {
     "name": "stdout",
     "output_type": "stream",
     "text": [
      "[1.         1.41421356 1.73205081 2.        ]\n",
      "[ 2.71828183  7.3890561  20.08553692 54.59815003]\n",
      "[ 0.84147098  0.90929743  0.14112001 -0.7568025 ]\n",
      "[0.         0.69314718 1.09861229 1.38629436]\n",
      "2.5\n",
      "1.118033988749895\n",
      "10\n",
      "4\n"
     ]
    }
   ],
   "source": [
    "arr = np.array([1, 2, 3, 4])\n",
    "\n",
    "# Math operations\n",
    "print(np.sqrt(arr))     # Square root\n",
    "print(np.exp(arr))      # Exponential\n",
    "print(np.sin(arr))      # Trigonometric sine\n",
    "print(np.log(arr))      # Natural logarithm\n",
    "\n",
    "# Statistical operations\n",
    "print(np.mean(arr))     # 2.5\n",
    "print(np.std(arr))      # Standard deviation\n",
    "print(np.sum(arr))      # 10\n",
    "print(np.max(arr))      # 4"
   ]
  },
  {
   "cell_type": "markdown",
   "id": "75f59a54",
   "metadata": {},
   "source": [
    "Array Processing"
   ]
  },
  {
   "cell_type": "code",
   "execution_count": 8,
   "id": "3499483d",
   "metadata": {},
   "outputs": [
    {
     "name": "stdout",
     "output_type": "stream",
     "text": [
      "[0 0 0 4 5]\n",
      "[2.73273282 2.4935605  2.65051646 2.41214662 2.80303776]\n",
      "[0.44662635 0.53057716 0.39041257 0.74805946 0.50272329]\n"
     ]
    }
   ],
   "source": [
    "# Vectorization - avoid loops\n",
    "arr = np.random.rand(1000000)\n",
    "\n",
    "# Slow Python way\n",
    "def slow_square(x):\n",
    "    result = np.zeros(len(x))\n",
    "    for i in range(len(x)):\n",
    "        result[i] = x[i] ** 2\n",
    "    return result\n",
    "\n",
    "# Fast NumPy way\n",
    "def fast_square(x):\n",
    "    return x ** 2\n",
    "\n",
    "# Conditional operations\n",
    "arr = np.array([1, 2, 3, 4, 5])\n",
    "print(np.where(arr > 3, arr, 0))  # [0 0 0 4 5]\n",
    "\n",
    "# Aggregations\n",
    "matrix = np.random.rand(5, 5)\n",
    "print(matrix.sum(axis=0))  # Sum columns\n",
    "print(matrix.mean(axis=1)) # Mean of rows"
   ]
  },
  {
   "cell_type": "markdown",
   "id": "3c912ac7",
   "metadata": {},
   "source": [
    "Array Input and Output"
   ]
  },
  {
   "cell_type": "code",
   "execution_count": 9,
   "id": "d5a56b94",
   "metadata": {},
   "outputs": [
    {
     "name": "stdout",
     "output_type": "stream",
     "text": [
      "[1 2 3]\n",
      "[4 5 6]\n"
     ]
    }
   ],
   "source": [
    "# Saving and loading\n",
    "arr = np.arange(10)\n",
    "\n",
    "# Save to binary file\n",
    "np.save('my_array.npy', arr)\n",
    "\n",
    "# Load from binary file\n",
    "loaded_arr = np.load('my_array.npy')\n",
    "\n",
    "# Save/load text files\n",
    "np.savetxt('array.txt', arr, delimiter=',')\n",
    "loaded_from_txt = np.loadtxt('array.txt', delimiter=',')\n",
    "\n",
    "# Save multiple arrays\n",
    "arr1 = np.array([1, 2, 3])\n",
    "arr2 = np.array([4, 5, 6])\n",
    "np.savez('arrays.npz', a=arr1, b=arr2)\n",
    "\n",
    "# Load multiple arrays\n",
    "loaded = np.load('arrays.npz')\n",
    "print(loaded['a'])  # [1 2 3]\n",
    "print(loaded['b'])  # [4 5 6]"
   ]
  },
  {
   "cell_type": "markdown",
   "id": "83b7d9ad",
   "metadata": {},
   "source": [
    "Exercise on Numpy\n",
    "1.Create a 5x5 array with random values and find the minimum and maximum values\n",
    "\n",
    "2.Create a 10x10 array with random values and normalize it (0-1)\n",
    "\n",
    "3.Multiply a 5x3 matrix by a 3x2 matrix (real matrix product)\n",
    "\n",
    "4.Find the most frequent value in a random array of size 100\n",
    "\n",
    "5.Create a checkerboard 8x8 matrix using slicing and striding"
   ]
  },
  {
   "cell_type": "code",
   "execution_count": null,
   "id": "15148958",
   "metadata": {},
   "outputs": [],
   "source": []
  }
 ],
 "metadata": {
  "kernelspec": {
   "display_name": "Python 3 (ipykernel)",
   "language": "python",
   "name": "python3"
  },
  "language_info": {
   "codemirror_mode": {
    "name": "ipython",
    "version": 3
   },
   "file_extension": ".py",
   "mimetype": "text/x-python",
   "name": "python",
   "nbconvert_exporter": "python",
   "pygments_lexer": "ipython3",
   "version": "3.10.7"
  }
 },
 "nbformat": 4,
 "nbformat_minor": 5
}
