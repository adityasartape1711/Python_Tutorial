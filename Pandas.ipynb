{
 "cells": [
  {
   "cell_type": "markdown",
   "id": "75abd44b",
   "metadata": {},
   "source": [
    "Index Objects"
   ]
  },
  {
   "cell_type": "code",
   "execution_count": 1,
   "id": "c147d897",
   "metadata": {},
   "outputs": [
    {
     "name": "stdout",
     "output_type": "stream",
     "text": [
      "5\n",
      "(5,)\n",
      "True\n",
      "Index(['b', 'c'], dtype='object')\n",
      "True\n"
     ]
    }
   ],
   "source": [
    "import pandas as pd\n",
    "\n",
    "# Creating an index\n",
    "index = pd.Index(['a', 'b', 'c', 'd', 'e'])\n",
    "\n",
    "# Index properties\n",
    "print(index.size)       # Number of elements\n",
    "print(index.shape)      # Shape\n",
    "print(index.is_unique)  # Check if all values are unique\n",
    "\n",
    "# Index operations\n",
    "print(index[1:3])       # Slicing\n",
    "print('b' in index)     # Membership check"
   ]
  },
  {
   "cell_type": "markdown",
   "id": "ef27c3e4",
   "metadata": {},
   "source": [
    "Data Structure of Pandas"
   ]
  },
  {
   "cell_type": "code",
   "execution_count": 5,
   "id": "4e3fc9d0",
   "metadata": {},
   "outputs": [
    {
     "name": "stdout",
     "output_type": "stream",
     "text": [
      "a    20\n",
      "b    40\n",
      "c    60\n",
      "dtype: int64\n",
      "b    20\n",
      "c    30\n",
      "dtype: int64\n",
      "[10 20 30]\n"
     ]
    }
   ],
   "source": [
    "# Creating a Series\n",
    "import numpy as np\n",
    "s = pd.Series([1, 3, 5, np.nan, 6, 8])\n",
    "\n",
    "# With custom index\n",
    "s = pd.Series([10, 20, 30], index=['a', 'b', 'c'])\n",
    "\n",
    "# Series operations\n",
    "print(s * 2)            # Scalar operation\n",
    "print(s[s > 15])        # Boolean indexing\n",
    "print(s.to_numpy())     # Convert to numpy array"
   ]
  },
  {
   "cell_type": "markdown",
   "id": "906eb428",
   "metadata": {},
   "source": [
    "DataFrame"
   ]
  },
  {
   "cell_type": "code",
   "execution_count": 6,
   "id": "1788ba61",
   "metadata": {},
   "outputs": [
    {
     "name": "stdout",
     "output_type": "stream",
     "text": [
      "          A         B         C         D\n",
      "0 -0.822252 -0.344498 -1.754457 -0.040676\n",
      "1 -0.979961  0.528483  0.571893 -1.005681\n",
      "              A         B         C         D\n",
      "count  6.000000  6.000000  6.000000  6.000000\n",
      "mean  -0.237529 -0.288032 -0.067970 -0.484384\n",
      "std    1.023665  1.056919  1.299066  0.784746\n",
      "min   -0.979961 -1.641353 -1.754457 -1.446076\n",
      "25%   -0.802146 -0.798462 -1.115945 -0.968022\n",
      "50%   -0.710073 -0.563920  0.524635 -0.580452\n",
      "75%   -0.104057  0.310238  0.618151 -0.106971\n",
      "max    1.709823  1.316019  1.310849  0.747035\n",
      "          0         1         2         3         4         5\n",
      "A -0.822252 -0.979961  1.709823 -0.678319  0.087364 -0.741827\n",
      "B -0.344498  0.528483 -0.803503  1.316019 -1.641353 -0.783342\n",
      "C -1.754457  0.571893  1.310849  0.633570 -1.647052  0.477378\n",
      "D -0.040676 -1.005681 -0.855045 -0.305858 -1.446076  0.747035\n"
     ]
    }
   ],
   "source": [
    "# Creating a DataFrame\n",
    "df = pd.DataFrame({\n",
    "    'A': [1, 2, 3, 4],\n",
    "    'B': pd.Timestamp('20230101'),\n",
    "    'C': pd.Series(1, index=list(range(4)), dtype='float32'),\n",
    "    'D': np.array([3] * 4, dtype='int32'),\n",
    "    'E': pd.Categorical([\"test\", \"train\", \"test\", \"train\"]),\n",
    "    'F': 'foo'\n",
    "})\n",
    "\n",
    "# From numpy array\n",
    "df = pd.DataFrame(np.random.randn(6, 4), columns=list('ABCD'))\n",
    "\n",
    "# DataFrame operations\n",
    "print(df.head(2))       # First 2 rows\n",
    "print(df.describe())    # Summary statistics\n",
    "print(df.T)            # Transpose"
   ]
  },
  {
   "cell_type": "markdown",
   "id": "0a42ca2d",
   "metadata": {},
   "source": [
    "Reindex"
   ]
  },
  {
   "cell_type": "code",
   "execution_count": 7,
   "id": "0ed45fb9",
   "metadata": {},
   "outputs": [],
   "source": [
    "s = pd.Series([1, 2, 3, 4], index=['a', 'b', 'c', 'd'])\n",
    "\n",
    "# Reindexing\n",
    "s2 = s.reindex(['a', 'b', 'e', 'f'])\n",
    "\n",
    "# With fill value\n",
    "s3 = s.reindex(['a', 'b', 'e', 'f'], fill_value=0)\n",
    "\n",
    "# For DataFrames\n",
    "df = pd.DataFrame(np.random.randn(3, 2), columns=['A', 'B'], index=[1, 3, 5])\n",
    "df2 = df.reindex([1, 2, 3, 4, 5])\n",
    "\n",
    "# Forward fill/backfill\n",
    "df3 = df.reindex(range(6), method='ffill')"
   ]
  },
  {
   "cell_type": "markdown",
   "id": "11578a09",
   "metadata": {},
   "source": [
    "Drop Entry"
   ]
  },
  {
   "cell_type": "code",
   "execution_count": 8,
   "id": "84236704",
   "metadata": {},
   "outputs": [
    {
     "data": {
      "text/html": [
       "<div>\n",
       "<style scoped>\n",
       "    .dataframe tbody tr th:only-of-type {\n",
       "        vertical-align: middle;\n",
       "    }\n",
       "\n",
       "    .dataframe tbody tr th {\n",
       "        vertical-align: top;\n",
       "    }\n",
       "\n",
       "    .dataframe thead th {\n",
       "        text-align: right;\n",
       "    }\n",
       "</style>\n",
       "<table border=\"1\" class=\"dataframe\">\n",
       "  <thead>\n",
       "    <tr style=\"text-align: right;\">\n",
       "      <th></th>\n",
       "      <th>two</th>\n",
       "    </tr>\n",
       "  </thead>\n",
       "  <tbody>\n",
       "    <tr>\n",
       "      <th>a</th>\n",
       "      <td>-0.711253</td>\n",
       "    </tr>\n",
       "    <tr>\n",
       "      <th>b</th>\n",
       "      <td>-0.045556</td>\n",
       "    </tr>\n",
       "    <tr>\n",
       "      <th>c</th>\n",
       "      <td>0.780232</td>\n",
       "    </tr>\n",
       "    <tr>\n",
       "      <th>d</th>\n",
       "      <td>-2.239657</td>\n",
       "    </tr>\n",
       "    <tr>\n",
       "      <th>e</th>\n",
       "      <td>-0.684895</td>\n",
       "    </tr>\n",
       "  </tbody>\n",
       "</table>\n",
       "</div>"
      ],
      "text/plain": [
       "        two\n",
       "a -0.711253\n",
       "b -0.045556\n",
       "c  0.780232\n",
       "d -2.239657\n",
       "e -0.684895"
      ]
     },
     "execution_count": 8,
     "metadata": {},
     "output_type": "execute_result"
    }
   ],
   "source": [
    "s = pd.Series(np.arange(5.), index=['a', 'b', 'c', 'd', 'e'])\n",
    "\n",
    "# Drop by index label\n",
    "s.drop(['b', 'c'])\n",
    "\n",
    "# For DataFrames\n",
    "df = pd.DataFrame(np.random.randn(5, 3), index=['a', 'b', 'c', 'd', 'e'],\n",
    "                  columns=['one', 'two', 'three'])\n",
    "\n",
    "# Drop rows\n",
    "df.drop(['a', 'c'])\n",
    "\n",
    "# Drop columns\n",
    "df.drop('one', axis=1)\n",
    "df.drop(['one', 'three'], axis='columns')"
   ]
  },
  {
   "cell_type": "markdown",
   "id": "988c7949",
   "metadata": {},
   "source": [
    "Selecting Entries"
   ]
  },
  {
   "cell_type": "code",
   "execution_count": 9,
   "id": "876439d4",
   "metadata": {},
   "outputs": [
    {
     "data": {
      "text/html": [
       "<div>\n",
       "<style scoped>\n",
       "    .dataframe tbody tr th:only-of-type {\n",
       "        vertical-align: middle;\n",
       "    }\n",
       "\n",
       "    .dataframe tbody tr th {\n",
       "        vertical-align: top;\n",
       "    }\n",
       "\n",
       "    .dataframe thead th {\n",
       "        text-align: right;\n",
       "    }\n",
       "</style>\n",
       "<table border=\"1\" class=\"dataframe\">\n",
       "  <thead>\n",
       "    <tr style=\"text-align: right;\">\n",
       "      <th></th>\n",
       "      <th>A</th>\n",
       "      <th>B</th>\n",
       "      <th>C</th>\n",
       "      <th>D</th>\n",
       "    </tr>\n",
       "  </thead>\n",
       "  <tbody>\n",
       "    <tr>\n",
       "      <th>2023-01-01</th>\n",
       "      <td>1.923161</td>\n",
       "      <td>-0.731414</td>\n",
       "      <td>-0.189013</td>\n",
       "      <td>2.001857</td>\n",
       "    </tr>\n",
       "    <tr>\n",
       "      <th>2023-01-04</th>\n",
       "      <td>0.417123</td>\n",
       "      <td>-0.800594</td>\n",
       "      <td>0.971795</td>\n",
       "      <td>1.721681</td>\n",
       "    </tr>\n",
       "    <tr>\n",
       "      <th>2023-01-05</th>\n",
       "      <td>0.736288</td>\n",
       "      <td>-1.145231</td>\n",
       "      <td>0.384655</td>\n",
       "      <td>0.609529</td>\n",
       "    </tr>\n",
       "    <tr>\n",
       "      <th>2023-01-06</th>\n",
       "      <td>0.962579</td>\n",
       "      <td>-0.678976</td>\n",
       "      <td>-0.515904</td>\n",
       "      <td>-0.469094</td>\n",
       "    </tr>\n",
       "  </tbody>\n",
       "</table>\n",
       "</div>"
      ],
      "text/plain": [
       "                   A         B         C         D\n",
       "2023-01-01  1.923161 -0.731414 -0.189013  2.001857\n",
       "2023-01-04  0.417123 -0.800594  0.971795  1.721681\n",
       "2023-01-05  0.736288 -1.145231  0.384655  0.609529\n",
       "2023-01-06  0.962579 -0.678976 -0.515904 -0.469094"
      ]
     },
     "execution_count": 9,
     "metadata": {},
     "output_type": "execute_result"
    }
   ],
   "source": [
    "df = pd.DataFrame(np.random.randn(6, 4), \n",
    "                  index=pd.date_range('20230101', periods=6),\n",
    "                  columns=['A', 'B', 'C', 'D'])\n",
    "\n",
    "# Column selection\n",
    "df['A']            # Single column as Series\n",
    "df[['A', 'B']]     # Multiple columns as DataFrame\n",
    "\n",
    "# Row selection by label\n",
    "df.loc['20230103']\n",
    "\n",
    "# Row selection by position\n",
    "df.iloc[3]\n",
    "\n",
    "# Slicing rows\n",
    "df[0:3]            # First 3 rows\n",
    "df['20230102':'20230104']  # By label\n",
    "\n",
    "# Boolean indexing\n",
    "df[df['A'] > 0]\n",
    "df[(df['A'] > 0) & (df['B'] < 0)]"
   ]
  },
  {
   "cell_type": "markdown",
   "id": "ed02bd67",
   "metadata": {},
   "source": [
    "Data Alignment"
   ]
  },
  {
   "cell_type": "code",
   "execution_count": 10,
   "id": "d0ac02fe",
   "metadata": {},
   "outputs": [
    {
     "name": "stdout",
     "output_type": "stream",
     "text": [
      "a    NaN\n",
      "b    6.0\n",
      "c    8.0\n",
      "d    NaN\n",
      "dtype: float64\n"
     ]
    }
   ],
   "source": [
    "s1 = pd.Series([1, 2, 3], index=['a', 'b', 'c'])\n",
    "s2 = pd.Series([4, 5, 6], index=['b', 'c', 'd'])\n",
    "\n",
    "# Addition aligns by index\n",
    "print(s1 + s2)\n",
    "# a    NaN\n",
    "# b    6.0\n",
    "# c    8.0\n",
    "# d    NaN"
   ]
  },
  {
   "cell_type": "markdown",
   "id": "9c7c25be",
   "metadata": {},
   "source": [
    "Rank and Sort"
   ]
  },
  {
   "cell_type": "code",
   "execution_count": 11,
   "id": "fb1c01ba",
   "metadata": {},
   "outputs": [],
   "source": [
    "df = pd.DataFrame({\n",
    "    'A': [1, 2, 3, 4, 5],\n",
    "    'B': [5, 4, 3, 2, 1],\n",
    "    'C': [2, 2, 2, 2, 2]\n",
    "})\n",
    "\n",
    "# Sorting by values\n",
    "df.sort_values(by='B')\n",
    "\n",
    "# Sorting by index\n",
    "df.sort_index(ascending=False)\n",
    "\n",
    "# Ranking\n",
    "df['A_rank'] = df['A'].rank(ascending=False)"
   ]
  },
  {
   "cell_type": "markdown",
   "id": "3972f465",
   "metadata": {},
   "source": [
    "loc and iloc indexing"
   ]
  },
  {
   "cell_type": "code",
   "execution_count": 13,
   "id": "03a9281d",
   "metadata": {},
   "outputs": [
    {
     "data": {
      "text/html": [
       "<div>\n",
       "<style scoped>\n",
       "    .dataframe tbody tr th:only-of-type {\n",
       "        vertical-align: middle;\n",
       "    }\n",
       "\n",
       "    .dataframe tbody tr th {\n",
       "        vertical-align: top;\n",
       "    }\n",
       "\n",
       "    .dataframe thead th {\n",
       "        text-align: right;\n",
       "    }\n",
       "</style>\n",
       "<table border=\"1\" class=\"dataframe\">\n",
       "  <thead>\n",
       "    <tr style=\"text-align: right;\">\n",
       "      <th></th>\n",
       "      <th>one</th>\n",
       "      <th>three</th>\n",
       "    </tr>\n",
       "  </thead>\n",
       "  <tbody>\n",
       "    <tr>\n",
       "      <th>b</th>\n",
       "      <td>-0.693557</td>\n",
       "      <td>-0.718832</td>\n",
       "    </tr>\n",
       "    <tr>\n",
       "      <th>d</th>\n",
       "      <td>1.614604</td>\n",
       "      <td>-0.307616</td>\n",
       "    </tr>\n",
       "  </tbody>\n",
       "</table>\n",
       "</div>"
      ],
      "text/plain": [
       "        one     three\n",
       "b -0.693557 -0.718832\n",
       "d  1.614604 -0.307616"
      ]
     },
     "execution_count": 13,
     "metadata": {},
     "output_type": "execute_result"
    }
   ],
   "source": [
    "df = pd.DataFrame(np.random.randn(6, 4), \n",
    "                  index=list('abcdef'),\n",
    "                  columns=['one', 'two', 'three', 'four'])\n",
    "\n",
    "# loc - label-based\n",
    "df.loc['a']                  # Row with index 'a'\n",
    "df.loc[:, 'one']              # Column 'one'\n",
    "df.loc[['a', 'b'], ['one', 'two']]  # Rows a,b and columns one,two\n",
    "df.loc['a':'c', 'two':'four'] # Slicing with labels\n",
    "\n",
    "# iloc - position-based\n",
    "df.iloc[3]                    # 4th row\n",
    "df.iloc[:, 1]                 # 2nd column\n",
    "df.iloc[1:3, 0:2]             # Rows 2-3, columns 1-2\n",
    "df.iloc[[1, 3], [0, 2]]       # Rows 2 and 4, columns 1 and 3"
   ]
  },
  {
   "cell_type": "markdown",
   "id": "3ba069c3",
   "metadata": {},
   "source": [
    "Summary Statistics"
   ]
  },
  {
   "cell_type": "code",
   "execution_count": 14,
   "id": "12d69278",
   "metadata": {},
   "outputs": [
    {
     "name": "stdout",
     "output_type": "stream",
     "text": [
      "A   -0.364343\n",
      "B    0.484523\n",
      "C   -0.277751\n",
      "D    0.112308\n",
      "dtype: float64\n",
      "0    0.200097\n",
      "1   -0.402209\n",
      "2   -0.560756\n",
      "3   -0.350240\n",
      "4    0.031318\n",
      "5   -0.144040\n",
      "6    0.448951\n",
      "7    0.707982\n",
      "8    0.307867\n",
      "9   -0.352129\n",
      "dtype: float64\n",
      "A    1.084702\n",
      "B    0.625824\n",
      "C    1.083618\n",
      "D    0.612491\n",
      "dtype: float64\n",
      "               A          B          C          D\n",
      "count  10.000000  10.000000  10.000000  10.000000\n",
      "mean   -0.364343   0.484523  -0.277751   0.112308\n",
      "std     1.084702   0.625824   1.083618   0.612491\n",
      "min    -1.996594  -0.564977  -2.177590  -0.704339\n",
      "25%    -1.155231   0.070218  -0.664425  -0.354701\n",
      "50%    -0.306740   0.536037  -0.149464   0.173742\n",
      "75%     0.567558   0.875897   0.693065   0.237733\n",
      "max     0.984941   1.537429   0.816677   1.254708\n",
      "          A         B         C         D\n",
      "A  1.000000 -0.069689 -0.067509  0.675459\n",
      "B -0.069689  1.000000 -0.536479  0.200428\n",
      "C -0.067509 -0.536479  1.000000 -0.284203\n",
      "D  0.675459  0.200428 -0.284203  1.000000\n",
      "          A         B         C         D\n",
      "A  1.176578 -0.047307 -0.079350  0.448755\n",
      "B -0.047307  0.391655 -0.363815  0.076826\n",
      "C -0.079350 -0.363815  1.174227 -0.188627\n",
      "D  0.448755  0.076826 -0.188627  0.375146\n",
      "(0.389, 0.985]      3\n",
      "(-2.001, -1.4]      2\n",
      "(-1.4, -0.804]      2\n",
      "(-0.804, -0.208]    2\n",
      "(-0.208, 0.389]     1\n",
      "Name: A, dtype: int64\n"
     ]
    }
   ],
   "source": [
    "df = pd.DataFrame(np.random.randn(10, 4), \n",
    "                  columns=['A', 'B', 'C', 'D'])\n",
    "\n",
    "# Basic statistics\n",
    "print(df.mean())        # Column means\n",
    "print(df.mean(axis=1))  # Row means\n",
    "print(df.std())         # Standard deviation\n",
    "print(df.describe())    # Full summary\n",
    "\n",
    "# Correlation and covariance\n",
    "print(df.corr())\n",
    "print(df.cov())\n",
    "\n",
    "# Count unique values\n",
    "print(df['A'].value_counts(bins=5))  # Count in 5 bins"
   ]
  },
  {
   "cell_type": "markdown",
   "id": "3ce2f061",
   "metadata": {},
   "source": [
    "Handling Missing Data"
   ]
  },
  {
   "cell_type": "code",
   "execution_count": 15,
   "id": "a6982979",
   "metadata": {},
   "outputs": [
    {
     "name": "stdout",
     "output_type": "stream",
     "text": [
      "       A      B      C\n",
      "0  False  False  False\n",
      "1  False   True  False\n",
      "2   True   True  False\n",
      "3  False  False  False\n",
      "A    1\n",
      "B    2\n",
      "C    0\n",
      "dtype: int64\n",
      "     A    B   C\n",
      "0  1.0  5.0  10\n",
      "1  2.0  0.0  20\n",
      "2  0.0  0.0  30\n",
      "3  4.0  8.0  40\n",
      "          A    B   C\n",
      "0  1.000000  5.0  10\n",
      "1  2.000000  6.5  20\n",
      "2  2.333333  6.5  30\n",
      "3  4.000000  8.0  40\n",
      "     A    B   C\n",
      "0  1.0  5.0  10\n",
      "1  2.0  5.0  20\n",
      "2  2.0  5.0  30\n",
      "3  4.0  8.0  40\n",
      "     A    B   C\n",
      "0  1.0  5.0  10\n",
      "3  4.0  8.0  40\n",
      "     A    B   C\n",
      "0  1.0  5.0  10\n",
      "1  2.0  NaN  20\n",
      "2  NaN  NaN  30\n",
      "3  4.0  8.0  40\n",
      "    C\n",
      "0  10\n",
      "1  20\n",
      "2  30\n",
      "3  40\n"
     ]
    }
   ],
   "source": [
    "df = pd.DataFrame({\n",
    "    'A': [1, 2, np.nan, 4],\n",
    "    'B': [5, np.nan, np.nan, 8],\n",
    "    'C': [10, 20, 30, 40]\n",
    "})\n",
    "\n",
    "# Detecting missing values\n",
    "print(df.isna())\n",
    "print(df.isna().sum())\n",
    "\n",
    "# Filling missing values\n",
    "print(df.fillna(0))                  # Fill with 0\n",
    "print(df.fillna(df.mean()))          # Fill with column mean\n",
    "print(df.fillna(method='ffill'))     # Forward fill\n",
    "\n",
    "# Dropping missing values\n",
    "print(df.dropna())                   # Drop rows with any NA\n",
    "print(df.dropna(how='all'))          # Drop rows with all NA\n",
    "print(df.dropna(axis=1))             # Drop columns with any NA"
   ]
  },
  {
   "cell_type": "markdown",
   "id": "f289d607",
   "metadata": {},
   "source": [
    "Index Hierarchy"
   ]
  },
  {
   "cell_type": "code",
   "execution_count": 16,
   "id": "35ed667a",
   "metadata": {},
   "outputs": [
    {
     "name": "stdout",
     "output_type": "stream",
     "text": [
      "            data1     data2\n",
      "numbers                    \n",
      "1       -0.035118  0.699491\n",
      "2       -0.859225 -0.264934\n",
      "data1   -0.035118\n",
      "data2    0.699491\n",
      "Name: (A, 1), dtype: float64\n",
      "            data1     data2\n",
      "letters                    \n",
      "A       -0.035118  0.699491\n",
      "B        0.568647  0.688901\n"
     ]
    }
   ],
   "source": [
    "# Creating a MultiIndex\n",
    "arrays = [\n",
    "    ['A', 'A', 'B', 'B'],\n",
    "    [1, 2, 1, 2]\n",
    "]\n",
    "index = pd.MultiIndex.from_arrays(arrays, names=('letters', 'numbers'))\n",
    "df = pd.DataFrame(np.random.randn(4, 2), index=index, columns=['data1', 'data2'])\n",
    "\n",
    "# Selecting with MultiIndex\n",
    "print(df.loc['A'])                  # All A's\n",
    "print(df.loc[('A', 1)])             # Specific A,1\n",
    "print(df.xs(1, level='numbers'))    # All where numbers=1\n",
    "\n",
    "# Stacking and unstacking\n",
    "stacked = df.stack()\n",
    "unstacked = stacked.unstack()"
   ]
  },
  {
   "cell_type": "code",
   "execution_count": null,
   "id": "a5c01a49",
   "metadata": {},
   "outputs": [],
   "source": []
  }
 ],
 "metadata": {
  "kernelspec": {
   "display_name": "Python 3 (ipykernel)",
   "language": "python",
   "name": "python3"
  },
  "language_info": {
   "codemirror_mode": {
    "name": "ipython",
    "version": 3
   },
   "file_extension": ".py",
   "mimetype": "text/x-python",
   "name": "python",
   "nbconvert_exporter": "python",
   "pygments_lexer": "ipython3",
   "version": "3.10.7"
  }
 },
 "nbformat": 4,
 "nbformat_minor": 5
}
