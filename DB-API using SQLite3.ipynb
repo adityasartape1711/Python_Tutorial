{
 "cells": [
  {
   "cell_type": "markdown",
   "id": "d261e7e8",
   "metadata": {},
   "source": [
    "Create database and table"
   ]
  },
  {
   "cell_type": "code",
   "execution_count": 1,
   "id": "3044e54b",
   "metadata": {},
   "outputs": [],
   "source": [
    "import sqlite3\n",
    "\n",
    "conn = sqlite3.connect('example.db')\n",
    "cursor = conn.cursor()\n",
    "\n",
    "cursor.execute('''CREATE TABLE IF NOT EXISTS users\n",
    "                  (id INTEGER PRIMARY KEY, name TEXT, age INTEGER)''')\n",
    "conn.commit()\n",
    "conn.close()"
   ]
  },
  {
   "cell_type": "markdown",
   "id": "b867dc22",
   "metadata": {},
   "source": [
    "Insert data"
   ]
  },
  {
   "cell_type": "code",
   "execution_count": 2,
   "id": "2fa13b41",
   "metadata": {},
   "outputs": [],
   "source": [
    "conn = sqlite3.connect('example.db')\n",
    "cursor = conn.cursor()\n",
    "\n",
    "cursor.execute(\"INSERT INTO users (name, age) VALUES (?, ?)\", (\"Alice\", 25))\n",
    "conn.commit()\n",
    "conn.close()"
   ]
  },
  {
   "cell_type": "markdown",
   "id": "0056d621",
   "metadata": {},
   "source": [
    "Query data"
   ]
  },
  {
   "cell_type": "code",
   "execution_count": 3,
   "id": "f31bd98b",
   "metadata": {},
   "outputs": [
    {
     "name": "stdout",
     "output_type": "stream",
     "text": [
      "ID: 1, Name: Alice, Age: 25\n"
     ]
    }
   ],
   "source": [
    "conn = sqlite3.connect('example.db')\n",
    "cursor = conn.cursor()\n",
    "\n",
    "cursor.execute(\"SELECT * FROM users\")\n",
    "for row in cursor.fetchall():\n",
    "    print(f\"ID: {row[0]}, Name: {row[1]}, Age: {row[2]}\")\n",
    "\n",
    "conn.close()"
   ]
  },
  {
   "cell_type": "markdown",
   "id": "0e0e0c93",
   "metadata": {},
   "source": [
    "Parameterized queries and transactions"
   ]
  },
  {
   "cell_type": "code",
   "execution_count": 4,
   "id": "5ea7444a",
   "metadata": {},
   "outputs": [
    {
     "name": "stdout",
     "output_type": "stream",
     "text": [
      "Added 3 users successfully\n"
     ]
    }
   ],
   "source": [
    "def add_users(users):\n",
    "    conn = None\n",
    "    try:\n",
    "        conn = sqlite3.connect('example.db')\n",
    "        cursor = conn.cursor()\n",
    "        \n",
    "        conn.execute(\"BEGIN TRANSACTION\")\n",
    "        cursor.executemany(\"INSERT INTO users (name, age) VALUES (?, ?)\", users)\n",
    "        conn.commit()\n",
    "        print(f\"Added {len(users)} users successfully\")\n",
    "    except sqlite3.Error as e:\n",
    "        print(f\"Database error: {e}\")\n",
    "        if conn:\n",
    "            conn.rollback()\n",
    "    finally:\n",
    "        if conn:\n",
    "            conn.close()\n",
    "\n",
    "users = [(\"Bob\", 30), (\"Charlie\", 35), (\"Diana\", 28)]\n",
    "add_users(users)"
   ]
  },
  {
   "cell_type": "markdown",
   "id": "789bed6a",
   "metadata": {},
   "source": [
    "Database class with context manager"
   ]
  },
  {
   "cell_type": "code",
   "execution_count": 5,
   "id": "755aaa32",
   "metadata": {},
   "outputs": [
    {
     "name": "stdout",
     "output_type": "stream",
     "text": [
      "[(1, 'Alice', 25), (2, 'Bob', 30), (3, 'Charlie', 35), (4, 'Diana', 28)]\n"
     ]
    }
   ],
   "source": [
    "class Database:\n",
    "    def __init__(self, db_name):\n",
    "        self.db_name = db_name\n",
    "        \n",
    "    def __enter__(self):\n",
    "        self.conn = sqlite3.connect(self.db_name)\n",
    "        return self.conn.cursor()\n",
    "        \n",
    "    def __exit__(self, exc_type, exc_val, exc_tb):\n",
    "        if exc_type is None:\n",
    "            self.conn.commit()\n",
    "        else:\n",
    "            self.conn.rollback()\n",
    "        self.conn.close()\n",
    "\n",
    "# Usage\n",
    "with Database('example.db') as cursor:\n",
    "    cursor.execute(\"SELECT * FROM users\")\n",
    "    print(cursor.fetchall())"
   ]
  },
  {
   "cell_type": "code",
   "execution_count": null,
   "id": "19a12357",
   "metadata": {},
   "outputs": [],
   "source": []
  }
 ],
 "metadata": {
  "kernelspec": {
   "display_name": "Python 3 (ipykernel)",
   "language": "python",
   "name": "python3"
  },
  "language_info": {
   "codemirror_mode": {
    "name": "ipython",
    "version": 3
   },
   "file_extension": ".py",
   "mimetype": "text/x-python",
   "name": "python",
   "nbconvert_exporter": "python",
   "pygments_lexer": "ipython3",
   "version": "3.10.7"
  }
 },
 "nbformat": 4,
 "nbformat_minor": 5
}
