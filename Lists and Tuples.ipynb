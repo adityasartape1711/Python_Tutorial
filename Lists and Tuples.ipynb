{
 "cells": [
  {
   "cell_type": "markdown",
   "id": "686f6186",
   "metadata": {},
   "source": [
    "List basics"
   ]
  },
  {
   "cell_type": "code",
   "execution_count": 1,
   "id": "1a344939",
   "metadata": {},
   "outputs": [
    {
     "name": "stdout",
     "output_type": "stream",
     "text": [
      "banana\n"
     ]
    }
   ],
   "source": [
    "fruits = [\"apple\", \"banana\", \"cherry\"]\n",
    "fruits.append(\"orange\")\n",
    "print(fruits[1])  # banana"
   ]
  },
  {
   "cell_type": "markdown",
   "id": "35ec1496",
   "metadata": {},
   "source": [
    "Tuple basics"
   ]
  },
  {
   "cell_type": "code",
   "execution_count": 2,
   "id": "a8a54312",
   "metadata": {},
   "outputs": [
    {
     "name": "stdout",
     "output_type": "stream",
     "text": [
      "red\n"
     ]
    }
   ],
   "source": [
    "colors = (\"red\", \"green\", \"blue\")\n",
    "print(colors[0])  # red"
   ]
  },
  {
   "cell_type": "markdown",
   "id": "2d406a86",
   "metadata": {},
   "source": [
    "List operations"
   ]
  },
  {
   "cell_type": "code",
   "execution_count": 3,
   "id": "5cd7db9c",
   "metadata": {},
   "outputs": [
    {
     "name": "stdout",
     "output_type": "stream",
     "text": [
      "[1, 4, 9, 16, 25]\n"
     ]
    }
   ],
   "source": [
    "numbers = [1, 2, 3, 4, 5]\n",
    "squares = [x**2 for x in numbers]  # List comprehension\n",
    "print(squares)  # [1, 4, 9, 16, 25]"
   ]
  },
  {
   "cell_type": "markdown",
   "id": "1abfcccc",
   "metadata": {},
   "source": [
    "Nested structures"
   ]
  },
  {
   "cell_type": "code",
   "execution_count": 4,
   "id": "75800742",
   "metadata": {},
   "outputs": [
    {
     "name": "stdout",
     "output_type": "stream",
     "text": [
      "[[1, 4, 7], [2, 5, 8], [3, 6, 9]]\n"
     ]
    }
   ],
   "source": [
    "matrix = [\n",
    "    [1, 2, 3],\n",
    "    [4, 5, 6],\n",
    "    [7, 8, 9]\n",
    "]\n",
    "# Transpose the matrix\n",
    "transposed = [[row[i] for row in matrix] for i in range(3)]\n",
    "print(transposed)"
   ]
  },
  {
   "cell_type": "markdown",
   "id": "105d813d",
   "metadata": {},
   "source": [
    "Tuple unpacking"
   ]
  },
  {
   "cell_type": "code",
   "execution_count": 5,
   "id": "90389b8e",
   "metadata": {},
   "outputs": [
    {
     "name": "stdout",
     "output_type": "stream",
     "text": [
      "X: 10.5, Y: 20.3\n"
     ]
    }
   ],
   "source": [
    "def get_coordinates():\n",
    "    return (10.5, 20.3)\n",
    "\n",
    "x, y = get_coordinates()\n",
    "print(f\"X: {x}, Y: {y}\")"
   ]
  },
  {
   "cell_type": "code",
   "execution_count": null,
   "id": "5854ab81",
   "metadata": {},
   "outputs": [],
   "source": []
  }
 ],
 "metadata": {
  "kernelspec": {
   "display_name": "Python 3 (ipykernel)",
   "language": "python",
   "name": "python3"
  },
  "language_info": {
   "codemirror_mode": {
    "name": "ipython",
    "version": 3
   },
   "file_extension": ".py",
   "mimetype": "text/x-python",
   "name": "python",
   "nbconvert_exporter": "python",
   "pygments_lexer": "ipython3",
   "version": "3.10.7"
  }
 },
 "nbformat": 4,
 "nbformat_minor": 5
}
