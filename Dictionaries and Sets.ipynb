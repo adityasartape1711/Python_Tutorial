{
 "cells": [
  {
   "cell_type": "markdown",
   "id": "087f92e6",
   "metadata": {},
   "source": [
    "Dictionary basics"
   ]
  },
  {
   "cell_type": "code",
   "execution_count": 3,
   "id": "8a671404",
   "metadata": {},
   "outputs": [
    {
     "name": "stdout",
     "output_type": "stream",
     "text": [
      "Antara\n"
     ]
    }
   ],
   "source": [
    "person = {\n",
    "    \"name\": \"Antara\",\n",
    "    \"age\": 27,\n",
    "    \"city\": \"Mumbai\"\n",
    "}\n",
    "print(person[\"name\"])  # Alice"
   ]
  },
  {
   "cell_type": "markdown",
   "id": "c2cbe8ae",
   "metadata": {},
   "source": [
    "Set basics"
   ]
  },
  {
   "cell_type": "code",
   "execution_count": 2,
   "id": "c76007dc",
   "metadata": {},
   "outputs": [
    {
     "name": "stdout",
     "output_type": "stream",
     "text": [
      "{1, 2, 3}\n"
     ]
    }
   ],
   "source": [
    "unique_numbers = {1, 2, 3, 2, 1}\n",
    "print(unique_numbers)  # {1, 2, 3}"
   ]
  },
  {
   "cell_type": "markdown",
   "id": "86c8f7fc",
   "metadata": {},
   "source": [
    "Dictionary operations"
   ]
  },
  {
   "cell_type": "code",
   "execution_count": 4,
   "id": "d2c964a9",
   "metadata": {},
   "outputs": [
    {
     "name": "stdout",
     "output_type": "stream",
     "text": [
      "{1: 1, 2: 4, 3: 9, 4: 16, 5: 25}\n"
     ]
    }
   ],
   "source": [
    "squares = {x: x*x for x in range(1, 6)}\n",
    "print(squares)  # {1: 1, 2: 4, 3: 9, 4: 16, 5: 25}"
   ]
  },
  {
   "cell_type": "markdown",
   "id": "6b4dbe28",
   "metadata": {},
   "source": [
    "Set operations"
   ]
  },
  {
   "cell_type": "code",
   "execution_count": 5,
   "id": "c7b4cc3c",
   "metadata": {},
   "outputs": [
    {
     "name": "stdout",
     "output_type": "stream",
     "text": [
      "{1, 2, 3, 4, 5}\n",
      "{3}\n"
     ]
    }
   ],
   "source": [
    "a = {1, 2, 3}\n",
    "b = {3, 4, 5}\n",
    "print(a.union(b))        # {1, 2, 3, 4, 5}\n",
    "print(a.intersection(b)) # {3}"
   ]
  },
  {
   "cell_type": "markdown",
   "id": "abf57025",
   "metadata": {},
   "source": [
    "Complex dictionary"
   ]
  },
  {
   "cell_type": "code",
   "execution_count": 7,
   "id": "759bd0a0",
   "metadata": {},
   "outputs": [
    {
     "name": "stdout",
     "output_type": "stream",
     "text": [
      "Antara: 89.00\n",
      "Aditya: 80.00\n"
     ]
    }
   ],
   "source": [
    "students = {\n",
    "    \"Antara\": {\"age\": 20, \"grades\": [85, 90, 92]},\n",
    "    \"Aditya\": {\"age\": 21, \"grades\": [78, 82, 80]}\n",
    "}\n",
    "\n",
    "# Calculate average grade for each student\n",
    "for name, info in students.items():\n",
    "    avg = sum(info[\"grades\"]) / len(info[\"grades\"])\n",
    "    print(f\"{name}: {avg:.2f}\")"
   ]
  },
  {
   "cell_type": "code",
   "execution_count": null,
   "id": "596e70d1",
   "metadata": {},
   "outputs": [],
   "source": []
  }
 ],
 "metadata": {
  "kernelspec": {
   "display_name": "Python 3 (ipykernel)",
   "language": "python",
   "name": "python3"
  },
  "language_info": {
   "codemirror_mode": {
    "name": "ipython",
    "version": 3
   },
   "file_extension": ".py",
   "mimetype": "text/x-python",
   "name": "python",
   "nbconvert_exporter": "python",
   "pygments_lexer": "ipython3",
   "version": "3.10.7"
  }
 },
 "nbformat": 4,
 "nbformat_minor": 5
}
